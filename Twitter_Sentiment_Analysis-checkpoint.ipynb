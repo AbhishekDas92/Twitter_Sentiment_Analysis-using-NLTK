{
 "cells": [
  {
   "cell_type": "markdown",
   "metadata": {},
   "source": [
    "### <h>Twitter Tweet Analysis</h>"
   ]
  },
  {
   "cell_type": "code",
   "execution_count": 238,
   "metadata": {},
   "outputs": [],
   "source": [
    "### Import Packages\n",
    "\n",
    "import pandas as pd\n",
    "import numpy as np\n",
    "import re\n",
    "from textblob import TextBlob\n",
    "import tweepy\n",
    "from tweepy import OAuthHandler #twitter app authentication\n",
    "import matplotlib.pyplot as plt\n",
    "%matplotlib inline"
   ]
  },
  {
   "cell_type": "code",
   "execution_count": 239,
   "metadata": {},
   "outputs": [],
   "source": [
    "# Get the below strings/api codes from developer.twitter.com\n",
    "# Step 1: Login to twitter and visit the developer site\n",
    "# Step 2 : Navigate to \"Create a new App\"\n",
    "# Step 3 : fill the details accordingly\n",
    "# Step 4 : api keys are now generated\n",
    "# keys and tokens from the Twitter Dev Console \n",
    "\n",
    "\n",
    "consumer_key = 'nT6RnPI3pE76JGmRi2cyqkBMW'\n",
    "consumer_secret = 'Lj5SP5hhonyRbEebVTdHPWg6hws23wS9VI3yPxAlOWOZ2i669M'\n",
    "access_token = '141093387-Aa6UKvi6kqLZqrwvOesZumvifHrYKfARNfkpNptb'\n",
    "access_token_secret = 'Ielj2fpP1ldhhY74uk2mLTvz7roSskXqRciomc1Keh6t2'"
   ]
  },
  {
   "cell_type": "code",
   "execution_count": 240,
   "metadata": {},
   "outputs": [],
   "source": [
    "##Twiiter Authentication\n",
    "\n",
    "# create OAuthHandler object \n",
    "auth = OAuthHandler(consumer_key,consumer_secret)\n",
    "\n",
    "# set access token and secret\n",
    "auth.set_access_token(access_token,access_token_secret)\n",
    "\n",
    "# create tweepy API object to fetch tweets\n",
    "api = tweepy.API(auth,wait_on_rate_limit=True) "
   ]
  },
  {
   "cell_type": "markdown",
   "metadata": {},
   "source": [
    "### step 1: Text Cleaning  & Analyse"
   ]
  },
  {
   "cell_type": "code",
   "execution_count": 393,
   "metadata": {},
   "outputs": [],
   "source": [
    "# 1. Remove @ Username\n",
    "# 2. tabs\n",
    "# 3. Non words and spaces\n",
    "# 4. Clean Symbols\n",
    "# 5. Lower Text\n",
    "\n",
    "\n",
    "def Clean_Tweet(tweet):\n",
    "    \n",
    "    return \" \".join(re.sub('(@[A-Za-z0-9]+)|([^A-Za-z0-9 \\t])|(\\w+:\\/\\/\\S+)|([RT]|)','',tweet).split())"
   ]
  },
  {
   "cell_type": "code",
   "execution_count": 372,
   "metadata": {},
   "outputs": [],
   "source": [
    "def Clean_Symbols(tweet):\n",
    "    Clean_Data = []\n",
    "    for val in tweet:\n",
    "        if (val.isalnum() or val == \" \"):\n",
    "            Clean_Data.append(val)\n",
    "    return \"\".join(Clean_Data)"
   ]
  },
  {
   "cell_type": "code",
   "execution_count": 304,
   "metadata": {},
   "outputs": [],
   "source": [
    "## Get Sentiment Anlysis\n",
    "\n",
    "def get_tweet_sentiment(tweet):\n",
    "    \n",
    "    analysis = TextBlob(tweet)\n",
    "    \n",
    "    if analysis.sentiment.polarity>0:\n",
    "        return 'Positive'\n",
    "    elif analysis.sentiment.polarity < 0:\n",
    "        return 'Negative'\n",
    "    elif analysis.sentiment.polarity == 0:\n",
    "        return 'Neutral'\n",
    "    else:\n",
    "        return 'Not Defined'"
   ]
  },
  {
   "cell_type": "code",
   "execution_count": 305,
   "metadata": {},
   "outputs": [],
   "source": [
    "def polarity_tweet(tweet):\n",
    "    \n",
    "    tb = TextBlob(tweet)\n",
    "    polarity_factor = tb.sentiment.polarity\n",
    "    \n",
    "    return polarity_factor"
   ]
  },
  {
   "cell_type": "code",
   "execution_count": null,
   "metadata": {},
   "outputs": [],
   "source": [
    "class_data.tweet_text = class_data.tweet_text.apply(lambda x:TextBlob(x).correct())"
   ]
  },
  {
   "cell_type": "code",
   "execution_count": 399,
   "metadata": {},
   "outputs": [],
   "source": [
    "tweets = []\n",
    "fetched_tweets=tweepy.Cursor(api.search,q=\"#SpeakUpForSSCRailwayStudents\").items(1000)\n",
    "\n",
    "for tweet in fetched_tweets:\n",
    "    \n",
    "    parsed_tweets = {}\n",
    "    parsed_tweets['text'] = tweet.text\n",
    "    #parsed_tweets['sentiment'] = get_tweet_sentiment(tweet=Clean_Tweet(tweet.text))\n",
    "    #parsed_tweets['polarity'] = polarity_tweet(tweet=Clean_Tweet(tweet.text))\n",
    "    tweets.append(parsed_tweets)\n",
    "    "
   ]
  },
  {
   "cell_type": "code",
   "execution_count": 398,
   "metadata": {},
   "outputs": [
    {
     "data": {
      "text/plain": [
       "[{'text': 'SpeakUpForSSCailwayStudents'},\n",
       " {'text': 'SpeakUpForSSCailwayStudents SpeakUpFo'},\n",
       " {'text': 'rb ntpc Students ka form cancil rrb BExamDates rrbexamedates rrbntpc'},\n",
       " {'text': 'SpeakUpForSSCailwayStudents 17th september NationalUnemploymentDay'},\n",
       " {'text': 'speakup SpeakUpForSSCailwayStudents'}]"
      ]
     },
     "execution_count": 398,
     "metadata": {},
     "output_type": "execute_result"
    }
   ],
   "source": [
    "tweets[0:5]"
   ]
  },
  {
   "cell_type": "code",
   "execution_count": 379,
   "metadata": {},
   "outputs": [],
   "source": [
    "###Inserting Data into DataFrame for CleeanUp & further processing\n",
    "\n",
    "tw_text = []\n",
    "\n",
    "for x in tweets:\n",
    "    tw_text.append(x['text'])\n",
    "tw_text = pd.Series(tw_text, name = \"tweet_text\")\n",
    "sentiment_analysis = pd.DataFrame(tw_text)"
   ]
  },
  {
   "cell_type": "code",
   "execution_count": 394,
   "metadata": {},
   "outputs": [],
   "source": [
    "sent = sentiment_analysis"
   ]
  },
  {
   "cell_type": "code",
   "execution_count": 395,
   "metadata": {},
   "outputs": [],
   "source": [
    "##Clean Text using Regex Function\n",
    "\n",
    "for x in sent.index:\n",
    "    sent.tweet_text[x] = Clean_Tweet(sent.tweet_text[x])"
   ]
  },
  {
   "cell_type": "code",
   "execution_count": 396,
   "metadata": {},
   "outputs": [
    {
     "data": {
      "text/html": [
       "<div>\n",
       "<style scoped>\n",
       "    .dataframe tbody tr th:only-of-type {\n",
       "        vertical-align: middle;\n",
       "    }\n",
       "\n",
       "    .dataframe tbody tr th {\n",
       "        vertical-align: top;\n",
       "    }\n",
       "\n",
       "    .dataframe thead th {\n",
       "        text-align: right;\n",
       "    }\n",
       "</style>\n",
       "<table border=\"1\" class=\"dataframe\">\n",
       "  <thead>\n",
       "    <tr style=\"text-align: right;\">\n",
       "      <th></th>\n",
       "      <th>tweet_text</th>\n",
       "    </tr>\n",
       "  </thead>\n",
       "  <tbody>\n",
       "    <tr>\n",
       "      <td>0</td>\n",
       "      <td>httpstcosnmzomlqu rrb ntpc students ka form ca...</td>\n",
       "    </tr>\n",
       "    <tr>\n",
       "      <td>1</td>\n",
       "      <td>rt saurabh speakupforsscrailwaystudents th sep...</td>\n",
       "    </tr>\n",
       "    <tr>\n",
       "      <td>2</td>\n",
       "      <td>speakup speakupforsscrailwaystudents pmoindia ...</td>\n",
       "    </tr>\n",
       "    <tr>\n",
       "      <td>3</td>\n",
       "      <td>rt bhaskar wewantjoiningspeakupforsscrailwayst...</td>\n",
       "    </tr>\n",
       "    <tr>\n",
       "      <td>4</td>\n",
       "      <td>rt manjangra</td>\n",
       "    </tr>\n",
       "    <tr>\n",
       "      <td>5</td>\n",
       "      <td>rt bhaskar wewantjoiningspeakupforsscrailwayst...</td>\n",
       "    </tr>\n",
       "    <tr>\n",
       "      <td>6</td>\n",
       "      <td>rt himansh send candidate upp speakupforsscrai...</td>\n",
       "    </tr>\n",
       "    <tr>\n",
       "      <td>7</td>\n",
       "      <td>rt sharmahitesh we want examination and result...</td>\n",
       "    </tr>\n",
       "    <tr>\n",
       "      <td>8</td>\n",
       "      <td>rt deepakgr speakupforjobsbajeminutesspeakupfo...</td>\n",
       "    </tr>\n",
       "    <tr>\n",
       "      <td>9</td>\n",
       "      <td>rt exampuroficial pmoindia narendramodi myogia...</td>\n",
       "    </tr>\n",
       "  </tbody>\n",
       "</table>\n",
       "</div>"
      ],
      "text/plain": [
       "                                          tweet_text\n",
       "0  httpstcosnmzomlqu rrb ntpc students ka form ca...\n",
       "1  rt saurabh speakupforsscrailwaystudents th sep...\n",
       "2  speakup speakupforsscrailwaystudents pmoindia ...\n",
       "3  rt bhaskar wewantjoiningspeakupforsscrailwayst...\n",
       "4                                       rt manjangra\n",
       "5  rt bhaskar wewantjoiningspeakupforsscrailwayst...\n",
       "6  rt himansh send candidate upp speakupforsscrai...\n",
       "7  rt sharmahitesh we want examination and result...\n",
       "8  rt deepakgr speakupforjobsbajeminutesspeakupfo...\n",
       "9  rt exampuroficial pmoindia narendramodi myogia..."
      ]
     },
     "execution_count": 396,
     "metadata": {},
     "output_type": "execute_result"
    }
   ],
   "source": [
    "sent[0:10]"
   ]
  },
  {
   "cell_type": "code",
   "execution_count": 308,
   "metadata": {},
   "outputs": [
    {
     "name": "stdout",
     "output_type": "stream",
     "text": [
      "Positive tweets percentage: 7.852193995381063 %\n"
     ]
    }
   ],
   "source": [
    "posive_tweets = [x for x in tweets if x['sentiment'] == 'Positive']\n",
    "print(\"Positive tweets percentage: {} %\".format(100*len(posive_tweets)/len(tweets))) "
   ]
  },
  {
   "cell_type": "code",
   "execution_count": 309,
   "metadata": {},
   "outputs": [
    {
     "name": "stdout",
     "output_type": "stream",
     "text": [
      "Neagtive tweets percentage: 1.8475750577367205 %\n"
     ]
    }
   ],
   "source": [
    "Negative_tweets = [x for x in tweets if x['sentiment'] == 'Negative']\n",
    "print(\"Neagtive tweets percentage: {} %\".format(100*len(Negative_tweets)/len(tweets))) "
   ]
  },
  {
   "cell_type": "code",
   "execution_count": 310,
   "metadata": {},
   "outputs": [
    {
     "name": "stdout",
     "output_type": "stream",
     "text": [
      "Neutral tweets percentage: 90.30023094688222 %\n"
     ]
    }
   ],
   "source": [
    "Neutral_tweets = [x for x in tweets if x['sentiment'] == 'Neutral']\n",
    "print(\"Neutral tweets percentage: {} %\".format(100*len(Neutral_tweets)/len(tweets))) "
   ]
  },
  {
   "cell_type": "markdown",
   "metadata": {},
   "source": [
    "#### Tweet Count"
   ]
  },
  {
   "cell_type": "code",
   "execution_count": 311,
   "metadata": {},
   "outputs": [
    {
     "name": "stdout",
     "output_type": "stream",
     "text": [
      "                   0\n",
      "Positive_Tweets  108\n",
      "Negative_Tweets    8\n",
      "Neutral_Tweets   317\n"
     ]
    }
   ],
   "source": [
    "tweet_count = pd.DataFrame(pd.concat([pd.Series(len(positive_tweets)),pd.Series(len(Negative_tweets)),pd.Series((len(tweets)-len(positive_tweets)-len(Negative_tweets)))],axis=0))\n",
    "tweet_count.set_index(pd.Series(['Positive_Tweets','Negative_Tweets','Neutral_Tweets']),inplace = True)\n",
    "print(tweet_count)"
   ]
  },
  {
   "cell_type": "code",
   "execution_count": 313,
   "metadata": {},
   "outputs": [
    {
     "data": {
      "text/plain": [
       "Positive    34\n",
       "Negative     8\n",
       "Name: Sentiment, dtype: int64"
      ]
     },
     "execution_count": 313,
     "metadata": {},
     "output_type": "execute_result"
    }
   ],
   "source": [
    "class_data.Sentiment.value_counts()"
   ]
  },
  {
   "cell_type": "code",
   "execution_count": 314,
   "metadata": {},
   "outputs": [
    {
     "name": "stdout",
     "output_type": "stream",
     "text": [
      "Modi Govt is jeopardising Indias futureArrogance is making them ignore the genuine concerns of the JEENEE aspirants\n",
      "Education is the most powerful weapon which you can use to change the worldbut there is no attention of the indian go\n",
      "Modi Govt is jeopardising Indias futureArrogance is making them ignore the genuine concerns of the JEENEE aspirants\n",
      "Modi Govt is jeopardising Indias futureArrogance is making them ignore the genuine concerns of the JEENEE aspirants\n",
      "he world has no place for the weakOnly the strong is respected2016resultUPSSSC201624\n",
      "I have written a letter to Piyush Goyal ji for ALP joineesin waiting for past many months Even the sscrailwaystudents\n",
      "coaching AILWAY NPC Group D exam date latest news via SpeakUpForS\n",
      "Barnali coaching hank you sir for supporting usWe all admire youI always learn something from youStay with us in this\n",
      "Why is consistently ignoring youth voice SpeakUpForSSCailwayStudents stopprivatization youthdislikem\n",
      "Watch latest video on Youube about next planning Click speakup SpeakUpForSSCailwayS\n"
     ]
    }
   ],
   "source": [
    "for x in positive_tweets[:10]:\n",
    "    print(Clean_Tweet(x['text']))"
   ]
  },
  {
   "cell_type": "code",
   "execution_count": 315,
   "metadata": {},
   "outputs": [
    {
     "name": "stdout",
     "output_type": "stream",
     "text": [
      "o all teachers and students We never met started digitally fought digitally won actually bowing down to all y\n",
      "Speak up for SSCailway Students Video on Study IQ 430 pm sharp Here is the link Can we b\n",
      "shetty Modi is a disaster of India Fake patriotism in his blood He is a nightmare of youth\n",
      "When you work really hard but dont know the date of your result It is the common feeling of every govt job aspiran\n",
      "1500 crores rupees scam through B and SSC form money We want you to return money to our poor studentsSpeakUpForSS\n",
      "BExamDateshere may be times when we are powerless to prevent injustice but there must never be a time when we fail t\n",
      "priyanka Funny but on a serious note SpeakUpForSSCailway SpeakUpForSSCailwayStudents speakupforsscrailwaysstudendspl\n",
      "SpeakUpForSSCailwayStudents BoycottFakeMedia boycottfakemedia students stop watching these fake news channels\n"
     ]
    }
   ],
   "source": [
    "for x in Negative_tweets[:10]:\n",
    "    print(Clean_Tweet(x['text']))"
   ]
  },
  {
   "cell_type": "code",
   "execution_count": 316,
   "metadata": {},
   "outputs": [
    {
     "data": {
      "text/plain": [
       "<matplotlib.axes._subplots.AxesSubplot at 0x2c06d250f08>"
      ]
     },
     "execution_count": 316,
     "metadata": {},
     "output_type": "execute_result"
    },
    {
     "data": {
      "image/png": "[encoded data removed]",
      "text/plain": [
       "<Figure size 432x288 with 1 Axes>"
      ]
     },
     "metadata": {
      "needs_background": "light"
     },
     "output_type": "display_data"
    }
   ],
   "source": [
    "tweet_count.plot(kind='bar')"
   ]
  },
  {
   "cell_type": "code",
   "execution_count": 318,
   "metadata": {},
   "outputs": [
    {
     "data": {
      "text/html": [
       "<div>\n",
       "<style scoped>\n",
       "    .dataframe tbody tr th:only-of-type {\n",
       "        vertical-align: middle;\n",
       "    }\n",
       "\n",
       "    .dataframe tbody tr th {\n",
       "        vertical-align: top;\n",
       "    }\n",
       "\n",
       "    .dataframe thead th {\n",
       "        text-align: right;\n",
       "    }\n",
       "</style>\n",
       "<table border=\"1\" class=\"dataframe\">\n",
       "  <thead>\n",
       "    <tr style=\"text-align: right;\">\n",
       "      <th></th>\n",
       "      <th>tweet_text</th>\n",
       "      <th>Sentiment</th>\n",
       "      <th>Polarity</th>\n",
       "    </tr>\n",
       "  </thead>\n",
       "  <tbody>\n",
       "    <tr>\n",
       "      <td>2</td>\n",
       "      <td>RT @RahulGandhi: Modi Govt is jeopardising Ind...</td>\n",
       "      <td>Positive</td>\n",
       "      <td>0.400000</td>\n",
       "    </tr>\n",
       "    <tr>\n",
       "      <td>4</td>\n",
       "      <td>RT @Voicesofstudent: Are you ready to celebrat...</td>\n",
       "      <td>Positive</td>\n",
       "      <td>0.200000</td>\n",
       "    </tr>\n",
       "    <tr>\n",
       "      <td>8</td>\n",
       "      <td>RT @RahulGandhi: Modi Govt is jeopardising Ind...</td>\n",
       "      <td>Positive</td>\n",
       "      <td>0.400000</td>\n",
       "    </tr>\n",
       "    <tr>\n",
       "      <td>14</td>\n",
       "      <td>RT @RaMoSirOfficial: To all teachers and stude...</td>\n",
       "      <td>Negative</td>\n",
       "      <td>-0.038889</td>\n",
       "    </tr>\n",
       "    <tr>\n",
       "      <td>16</td>\n",
       "      <td>RT @DrGauravGarg4: Speak up for SSC/Railway St...</td>\n",
       "      <td>Negative</td>\n",
       "      <td>-0.125000</td>\n",
       "    </tr>\n",
       "    <tr>\n",
       "      <td>29</td>\n",
       "      <td>Guys be ready to unite force government answer...</td>\n",
       "      <td>Positive</td>\n",
       "      <td>0.200000</td>\n",
       "    </tr>\n",
       "    <tr>\n",
       "      <td>34</td>\n",
       "      <td>RT @modi_thank: @SandeepKhasa_ Attention every...</td>\n",
       "      <td>Positive</td>\n",
       "      <td>0.100000</td>\n",
       "    </tr>\n",
       "    <tr>\n",
       "      <td>40</td>\n",
       "      <td>RT @Voicesofstudent: Are you ready to celebrat...</td>\n",
       "      <td>Positive</td>\n",
       "      <td>0.200000</td>\n",
       "    </tr>\n",
       "    <tr>\n",
       "      <td>46</td>\n",
       "      <td>@arnabofficial7 @Brand_shetty Modi is a disast...</td>\n",
       "      <td>Negative</td>\n",
       "      <td>-0.500000</td>\n",
       "    </tr>\n",
       "    <tr>\n",
       "      <td>51</td>\n",
       "      <td>RT @RahulGandhi: Modi Govt is jeopardising Ind...</td>\n",
       "      <td>Positive</td>\n",
       "      <td>0.400000</td>\n",
       "    </tr>\n",
       "  </tbody>\n",
       "</table>\n",
       "</div>"
      ],
      "text/plain": [
       "                                           tweet_text Sentiment  Polarity\n",
       "2   RT @RahulGandhi: Modi Govt is jeopardising Ind...  Positive  0.400000\n",
       "4   RT @Voicesofstudent: Are you ready to celebrat...  Positive  0.200000\n",
       "8   RT @RahulGandhi: Modi Govt is jeopardising Ind...  Positive  0.400000\n",
       "14  RT @RaMoSirOfficial: To all teachers and stude...  Negative -0.038889\n",
       "16  RT @DrGauravGarg4: Speak up for SSC/Railway St...  Negative -0.125000\n",
       "29  Guys be ready to unite force government answer...  Positive  0.200000\n",
       "34  RT @modi_thank: @SandeepKhasa_ Attention every...  Positive  0.100000\n",
       "40  RT @Voicesofstudent: Are you ready to celebrat...  Positive  0.200000\n",
       "46  @arnabofficial7 @Brand_shetty Modi is a disast...  Negative -0.500000\n",
       "51  RT @RahulGandhi: Modi Govt is jeopardising Ind...  Positive  0.400000"
      ]
     },
     "execution_count": 318,
     "metadata": {},
     "output_type": "execute_result"
    }
   ],
   "source": [
    "class_data[0:10]"
   ]
  },
  {
   "cell_type": "raw",
   "metadata": {},
   "source": [
    "# Further Tasks\n",
    "\n",
    "# 1. Properly clean the training data (SampleTrainingData.csv)\n",
    "# 2. Ignore non English text when training\n",
    "#     Hint : nltk can identify the language\n",
    "             Also, it can transalate the words\n",
    "# 3. Control the twitter feed (for validation dataset):\n",
    "#     a. No of tweets\n",
    "#     b. Time line for the tweets\n",
    "#     c. get tweets for a topic only from a geographical area (topic : OnePlus, then get tweets from India)\n",
    "# the nltk has certain functions to ID\n",
    "#     d. Identify the language used in the tweets\n",
    "#     e. Remove/translate non-english tweets\n"
   ]
  },
  {
   "cell_type": "code",
   "execution_count": 327,
   "metadata": {},
   "outputs": [],
   "source": []
  },
  {
   "cell_type": "code",
   "execution_count": null,
   "metadata": {},
   "outputs": [],
   "source": [
    "## Correcting Hindi/Any other words into English\n"
   ]
  }
 ],
 "metadata": {
  "kernelspec": {
   "display_name": "Python 3",
   "language": "python",
   "name": "python3"
  },
  "language_info": {
   "codemirror_mode": {
    "name": "ipython",
    "version": 3
   },
   "file_extension": ".py",
   "mimetype": "text/x-python",
   "name": "python",
   "nbconvert_exporter": "python",
   "pygments_lexer": "ipython3",
   "version": "3.7.4"
  }
 },
 "nbformat": 4,
 "nbformat_minor": 2
}
