{
 "cells": [
  {
   "cell_type": "markdown",
   "metadata": {},
   "source": [
    "### <h>Twitter Tweet Analysis</h>"
   ]
  },
  {
   "cell_type": "code",
   "execution_count": 657,
   "metadata": {},
   "outputs": [
    {
     "name": "stderr",
     "output_type": "stream",
     "text": [
      "[nltk_data] Downloading package wordnet to\n",
      "[nltk_data]     C:\\Users\\abhis\\AppData\\Roaming\\nltk_data...\n",
      "[nltk_data]   Package wordnet is already up-to-date!\n"
     ]
    },
    {
     "data": {
      "text/plain": [
       "True"
      ]
     },
     "execution_count": 657,
     "metadata": {},
     "output_type": "execute_result"
    }
   ],
   "source": [
    "### Import Packages\n",
    "\n",
    "import pandas as pd\n",
    "import numpy as np\n",
    "import re\n",
    "from textblob import TextBlob\n",
    "import tweepy\n",
    "from tweepy import OAuthHandler #twitter app authentication\n",
    "import matplotlib.pyplot as plt\n",
    "%matplotlib inline\n",
    "from nltk.stem import PorterStemmer\n",
    "import nltk\n",
    "nltk.download('wordnet')"
   ]
  },
  {
   "cell_type": "code",
   "execution_count": 658,
   "metadata": {},
   "outputs": [],
   "source": [
    "# Get the below strings/api codes from developer.twitter.com\n",
    "# Step 1: Login to twitter and visit the developer site\n",
    "# Step 2 : Navigate to \"Create a new App\"\n",
    "# Step 3 : fill the details accordingly\n",
    "# Step 4 : api keys are now generated\n",
    "# keys and tokens from the Twitter Dev Console \n",
    "\n",
    "\n",
    "consumer_key = 'nT6RnPI3pE76JGmRi2cyqkBMW'\n",
    "consumer_secret = 'Lj5SP5hhonyRbEebVTdHPWg6hws23wS9VI3yPxAlOWOZ2i669M'\n",
    "access_token = '141093387-Aa6UKvi6kqLZqrwvOesZumvifHrYKfARNfkpNptb'\n",
    "access_token_secret = 'Ielj2fpP1ldhhY74uk2mLTvz7roSskXqRciomc1Keh6t2'"
   ]
  },
  {
   "cell_type": "code",
   "execution_count": 659,
   "metadata": {},
   "outputs": [],
   "source": [
    "##Twiiter Authentication\n",
    "\n",
    "# create OAuthHandler object \n",
    "auth = OAuthHandler(consumer_key,consumer_secret)\n",
    "\n",
    "# set access token and secret\n",
    "auth.set_access_token(access_token,access_token_secret)\n",
    "\n",
    "# create tweepy API object to fetch tweets\n",
    "api = tweepy.API(auth,wait_on_rate_limit=True) "
   ]
  },
  {
   "cell_type": "markdown",
   "metadata": {},
   "source": [
    "### step 1: Text Cleaning  & Analyse"
   ]
  },
  {
   "cell_type": "code",
   "execution_count": 660,
   "metadata": {},
   "outputs": [],
   "source": [
    "# 1. Remove @ Username\n",
    "# 2. tabs\n",
    "# 3. Non words and spaces\n",
    "# 4. Clean Symbols\n",
    "# 5. Lower Text\n",
    "\n",
    "\n",
    "def Clean_Tweet(tweet):\n",
    "    \n",
    "    return \" \".join(re.sub('(@[A-Za-z0-9]+)|([^A-Za-z0-9 \\t])|(\\w+:\\/\\/\\S+)|([RT])','',tweet).split())"
   ]
  },
  {
   "cell_type": "code",
   "execution_count": 661,
   "metadata": {},
   "outputs": [],
   "source": [
    "def Clean_Symbols(tweet):\n",
    "    Clean_Data = []\n",
    "    for val in tweet:\n",
    "        if (val.isalnum() or val == \" \"):\n",
    "            Clean_Data.append(val)\n",
    "    return \"\".join(Clean_Data)"
   ]
  },
  {
   "cell_type": "code",
   "execution_count": 662,
   "metadata": {},
   "outputs": [],
   "source": [
    "## Get Sentiment Anlysis\n",
    "\n",
    "def get_tweet_sentiment(tweet):\n",
    "    \n",
    "    analysis = TextBlob(tweet)\n",
    "    \n",
    "    if analysis.sentiment.polarity>0:\n",
    "        return 'Positive'\n",
    "    elif analysis.sentiment.polarity < 0:\n",
    "        return 'Negative'\n",
    "    elif analysis.sentiment.polarity == 0:\n",
    "        return 'Neutral'\n",
    "    else:\n",
    "        return 'Not Defined'"
   ]
  },
  {
   "cell_type": "code",
   "execution_count": 663,
   "metadata": {},
   "outputs": [],
   "source": [
    "def polarity_tweet(tweet):\n",
    "    \n",
    "    tb = TextBlob(tweet)\n",
    "    polarity_factor = tb.sentiment.polarity\n",
    "    \n",
    "    return polarity_factor"
   ]
  },
  {
   "cell_type": "code",
   "execution_count": null,
   "metadata": {},
   "outputs": [],
   "source": [
    "tweets = []\n",
    "fetched_tweets=tweepy.Cursor(api.search,q=\"#SpeakUpForSSCRailwayStudents\").items(1000)\n",
    "\n",
    "for tweet in fetched_tweets:\n",
    "    \n",
    "    parsed_tweets = {}\n",
    "    parsed_tweets['text'] = tweet.text\n",
    "    #parsed_tweets['sentiment'] = get_tweet_sentiment(tweet=Clean_Tweet(tweet.text))\n",
    "    #parsed_tweets['polarity'] = polarity_tweet(tweet=Clean_Tweet(tweet.text))\n",
    "    tweets.append(parsed_tweets)\n",
    "    "
   ]
  },
  {
   "cell_type": "code",
   "execution_count": null,
   "metadata": {},
   "outputs": [],
   "source": [
    "tweets[0:5]"
   ]
  },
  {
   "cell_type": "code",
   "execution_count": null,
   "metadata": {},
   "outputs": [],
   "source": [
    "###Inserting Data into DataFrame for CleeanUp & further processing\n",
    "\n",
    "tw_text = []\n",
    "\n",
    "for x in tweets:\n",
    "    tw_text.append(x['text'])\n",
    "    \n",
    "tw_text = pd.Series(tw_text, name = \"tweet_text\")\n",
    "sentiment_analysis = pd.DataFrame(tw_text)"
   ]
  },
  {
   "cell_type": "code",
   "execution_count": null,
   "metadata": {},
   "outputs": [],
   "source": [
    "sentiment_analysis"
   ]
  },
  {
   "cell_type": "code",
   "execution_count": null,
   "metadata": {},
   "outputs": [],
   "source": [
    "##Clean Text using Regex Function\n",
    "\n",
    "for x in sentiment_analysis.index:\n",
    "    sentiment_analysis.tweet_text[x] = Clean_Tweet(sentiment_analysis.tweet_text[x])"
   ]
  },
  {
   "cell_type": "code",
   "execution_count": null,
   "metadata": {},
   "outputs": [],
   "source": [
    "### Lower Case the Test Data and modify incorrect words\n",
    "\n",
    "for x in sentiment_analysis.index:\n",
    "    sentiment_analysis.tweet_text[x] = sentiment_analysis.tweet_text[x].lower()"
   ]
  },
  {
   "cell_type": "code",
   "execution_count": null,
   "metadata": {},
   "outputs": [],
   "source": [
    "##Remove Stop Words\n",
    "\n",
    "stop = set(nltk.corpus.stopwords.words('english'))\n",
    "sentiment_analysis.tweet_text = sentiment_analysis['tweet_text'].apply(lambda x: \" \".join(x for x in x.split() if x not in stop))"
   ]
  },
  {
   "cell_type": "code",
   "execution_count": null,
   "metadata": {},
   "outputs": [],
   "source": [
    "sentiment_analysis"
   ]
  },
  {
   "cell_type": "code",
   "execution_count": null,
   "metadata": {},
   "outputs": [],
   "source": [
    "sentiment_analysis['Polarity'] = sentiment_analysis['tweet_text'].apply(lambda x:polarity_tweet(x))"
   ]
  },
  {
   "cell_type": "code",
   "execution_count": null,
   "metadata": {},
   "outputs": [],
   "source": [
    "sentiment_analysis['sentiment'] = sentiment_analysis['tweet_text'].apply(lambda x:get_tweet_sentiment(x))"
   ]
  },
  {
   "cell_type": "code",
   "execution_count": null,
   "metadata": {},
   "outputs": [],
   "source": [
    "posive_tweets = [x for x in sentiment_analysis.sentiment if x == 'Positive']\n",
    "print(\"Positive tweets percentage: {} %\".format(100*len(posive_tweets)/len(tweets))) "
   ]
  },
  {
   "cell_type": "code",
   "execution_count": null,
   "metadata": {},
   "outputs": [],
   "source": [
    "Negative_tweets = [x for x in sentiment_analysis.sentiment if x == 'Negative']\n",
    "print(\"Neagtive tweets percentage: {} %\".format(100*len(Negative_tweets)/len(tweets))) "
   ]
  },
  {
   "cell_type": "code",
   "execution_count": null,
   "metadata": {},
   "outputs": [],
   "source": [
    "Neutral_tweets = [x for x in  sentiment_analysis.sentiment if x == 'Neutral']\n",
    "print(\"Neutral tweets percentage: {} %\".format(100*len(Neutral_tweets)/len(tweets))) "
   ]
  },
  {
   "cell_type": "markdown",
   "metadata": {},
   "source": [
    "#### Tweet Count"
   ]
  },
  {
   "cell_type": "code",
   "execution_count": null,
   "metadata": {},
   "outputs": [],
   "source": [
    "tweet_count = pd.DataFrame(pd.concat([pd.Series(len(posive_tweets)),pd.Series(len(Negative_tweets)),pd.Series(len(Neutral_tweets))],axis=0))\n",
    "tweet_count.set_index(pd.Series(['Positive_Tweets','Negative_Tweets','Neutral_Tweets']),inplace = True)\n",
    "print(tweet_count)"
   ]
  },
  {
   "cell_type": "code",
   "execution_count": null,
   "metadata": {},
   "outputs": [],
   "source": [
    "class_data.Sentiment.value_counts()"
   ]
  },
  {
   "cell_type": "code",
   "execution_count": null,
   "metadata": {},
   "outputs": [],
   "source": [
    "tweet_count.plot(kind='bar')"
   ]
  },
  {
   "cell_type": "code",
   "execution_count": null,
   "metadata": {},
   "outputs": [],
   "source": [
    "len(sentiment_analysis)"
   ]
  },
  {
   "cell_type": "code",
   "execution_count": null,
   "metadata": {},
   "outputs": [],
   "source": [
    "## Correcting Hindi/Any other words into English\n"
   ]
  }
 ],
 "metadata": {
  "kernelspec": {
   "display_name": "Python 3",
   "language": "python",
   "name": "python3"
  },
  "language_info": {
   "codemirror_mode": {
    "name": "ipython",
    "version": 3
   },
   "file_extension": ".py",
   "mimetype": "text/x-python",
   "name": "python",
   "nbconvert_exporter": "python",
   "pygments_lexer": "ipython3",
   "version": "3.7.4"
  }
 },
 "nbformat": 4,
 "nbformat_minor": 2
}
